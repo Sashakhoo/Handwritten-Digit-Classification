{
 "cells": [
  {
   "cell_type": "code",
   "execution_count": 1,
   "metadata": {},
   "outputs": [],
   "source": [
    "from numpy import mean\r\n",
    "from numpy import std\r\n",
    "from matplotlib import pyplot\r\n",
    "import numpy as np\r\n",
    "import tensorflow as tf\r\n",
    "from keras import callbacks\r\n",
    "from tensorflow.keras.preprocessing.image import ImageDataGenerator\r\n",
    "from keras.datasets import mnist\r\n",
    "from keras.utils import to_categorical\r\n",
    "from keras.models import Sequential\r\n",
    "from keras.layers import Conv2D, MaxPooling2D, Flatten, Dense, InputLayer, BatchNormalization, Dropout\r\n",
    "from keras.optimizers import SGD\r\n",
    "# fix dimension ordering issue\r\n",
    "from keras import backend as K\r\n",
    "K.set_image_data_format('channels_last')"
   ]
  },
  {
   "cell_type": "code",
   "execution_count": 2,
   "metadata": {},
   "outputs": [],
   "source": [
    "# load dataset\r\n",
    "(trainX, trainY), (testX, testY) = mnist.load_data()\r\n",
    "# reshape dataset to have a single channel\r\n",
    "trainX = trainX.reshape((trainX.shape[0],28,28,1))\r\n",
    "testX = testX.reshape((testX.shape[0],28,28,1))\r\n",
    "# one hot encode target values\r\n",
    "trainY = to_categorical(trainY)\r\n",
    "testY = to_categorical(testY)"
   ]
  },
  {
   "cell_type": "code",
   "execution_count": 3,
   "metadata": {},
   "outputs": [],
   "source": [
    "# convert from integers to floats\n",
    "train_norm = trainX.astype('float32')\n",
    "test_norm = testX.astype('float32')\n",
    "# normalize to range 0-1\n",
    "train_norm = train_norm / 255.0\n",
    "test_norm = test_norm / 255.0\n",
    "num_classes = testY.shape[1]"
   ]
  },
  {
   "cell_type": "code",
   "execution_count": 4,
   "metadata": {},
   "outputs": [],
   "source": [
    "# define the larger model\r\n",
    "def larger_CNN1():\r\n",
    "\t# create model\r\n",
    "\tmodel = Sequential()\r\n",
    "\tmodel.add(Conv2D(30, (5, 5), input_shape=(28,28,1), activation='relu'))\r\n",
    "\tmodel.add(MaxPooling2D(pool_size=(2, 2)))\r\n",
    "\tmodel.add(Conv2D(15, (3, 3), activation='relu'))\r\n",
    "\tmodel.add(MaxPooling2D(pool_size=(2, 2)))\r\n",
    "\tmodel.add(Dropout(0.2))\r\n",
    "\tmodel.add(Flatten())\r\n",
    "\tmodel.add(Dense(128, activation='relu'))\r\n",
    "\tmodel.add(Dense(50, activation='relu'))\r\n",
    "\tmodel.add(Dense(num_classes, activation='softmax'))\r\n",
    "\t# Compile model\r\n",
    "\tmodel.compile(loss='categorical_crossentropy', optimizer='adam', metrics=['accuracy'])\r\n",
    "\treturn model"
   ]
  },
  {
   "cell_type": "code",
   "execution_count": 5,
   "metadata": {},
   "outputs": [
    {
     "name": "stdout",
     "output_type": "stream",
     "text": [
      "WARNING:tensorflow:`epsilon` argument is deprecated and will be removed, use `min_delta` instead.\n"
     ]
    }
   ],
   "source": [
    "# Incorporating reduced learning and early stopping for callback\r\n",
    "reduce_learning = callbacks.ReduceLROnPlateau(\r\n",
    "    monitor='val_loss',\r\n",
    "    factor=0.2,\r\n",
    "    patience=2,\r\n",
    "    verbose=1,\r\n",
    "    mode='auto',\r\n",
    "    epsilon=0.0001,\r\n",
    "    cooldown=2,\r\n",
    "    min_lr=0)\r\n",
    "\r\n",
    "early_stopping = callbacks.EarlyStopping(\r\n",
    "    monitor='val_loss',\r\n",
    "    min_delta=0,\r\n",
    "    patience=7,\r\n",
    "    verbose=1,\r\n",
    "    mode='auto')\r\n",
    "\r\n",
    "callbacks = [reduce_learning, early_stopping]"
   ]
  },
  {
   "cell_type": "code",
   "execution_count": 6,
   "metadata": {},
   "outputs": [
    {
     "name": "stdout",
     "output_type": "stream",
     "text": [
      "Epoch 1/10\n",
      "300/300 - 21s - loss: 1.1170 - accuracy: 0.7949 - val_loss: 0.1404 - val_accuracy: 0.9569\n",
      "Epoch 2/10\n",
      "300/300 - 21s - loss: 0.1689 - accuracy: 0.9488 - val_loss: 0.0858 - val_accuracy: 0.9719\n",
      "Epoch 3/10\n",
      "300/300 - 20s - loss: 0.1168 - accuracy: 0.9642 - val_loss: 0.0665 - val_accuracy: 0.9786\n",
      "Epoch 4/10\n",
      "300/300 - 20s - loss: 0.0935 - accuracy: 0.9709 - val_loss: 0.0589 - val_accuracy: 0.9818\n",
      "Epoch 5/10\n",
      "300/300 - 20s - loss: 0.0771 - accuracy: 0.9760 - val_loss: 0.0497 - val_accuracy: 0.9840\n",
      "Epoch 6/10\n",
      "300/300 - 20s - loss: 0.0668 - accuracy: 0.9792 - val_loss: 0.0414 - val_accuracy: 0.9862\n",
      "Epoch 7/10\n",
      "300/300 - 21s - loss: 0.0613 - accuracy: 0.9809 - val_loss: 0.0456 - val_accuracy: 0.9856\n",
      "Epoch 8/10\n",
      "300/300 - 20s - loss: 0.0547 - accuracy: 0.9826 - val_loss: 0.0408 - val_accuracy: 0.9866\n",
      "Epoch 9/10\n",
      "300/300 - 21s - loss: 0.0499 - accuracy: 0.9841 - val_loss: 0.0411 - val_accuracy: 0.9863\n",
      "Epoch 10/10\n",
      "300/300 - 20s - loss: 0.0471 - accuracy: 0.9845 - val_loss: 0.0407 - val_accuracy: 0.9874\n"
     ]
    }
   ],
   "source": [
    "# build the model\r\n",
    "model2 = larger_CNN1()\r\n",
    "# Fit the model\r\n",
    "history = model2.fit(trainX, trainY, validation_data=(testX, testY), epochs=10, batch_size=200, verbose=2,callbacks=callbacks)\r\n",
    "# Final evaluation of the model\r\n",
    "scores2 = model2.evaluate(testX, testY, verbose=0)"
   ]
  },
  {
   "cell_type": "code",
   "execution_count": 7,
   "metadata": {},
   "outputs": [
    {
     "name": "stdout",
     "output_type": "stream",
     "text": [
      "Model: \"sequential\"\n",
      "_________________________________________________________________\n",
      "Layer (type)                 Output Shape              Param #   \n",
      "=================================================================\n",
      "conv2d (Conv2D)              (None, 24, 24, 30)        780       \n",
      "_________________________________________________________________\n",
      "max_pooling2d (MaxPooling2D) (None, 12, 12, 30)        0         \n",
      "_________________________________________________________________\n",
      "conv2d_1 (Conv2D)            (None, 10, 10, 15)        4065      \n",
      "_________________________________________________________________\n",
      "max_pooling2d_1 (MaxPooling2 (None, 5, 5, 15)          0         \n",
      "_________________________________________________________________\n",
      "dropout (Dropout)            (None, 5, 5, 15)          0         \n",
      "_________________________________________________________________\n",
      "flatten (Flatten)            (None, 375)               0         \n",
      "_________________________________________________________________\n",
      "dense (Dense)                (None, 128)               48128     \n",
      "_________________________________________________________________\n",
      "dense_1 (Dense)              (None, 50)                6450      \n",
      "_________________________________________________________________\n",
      "dense_2 (Dense)              (None, 10)                510       \n",
      "=================================================================\n",
      "Total params: 59,933\n",
      "Trainable params: 59,933\n",
      "Non-trainable params: 0\n",
      "_________________________________________________________________\n",
      "Larger CNN Error: 1.26%\n"
     ]
    }
   ],
   "source": [
    "model2.summary()\n",
    "print(\"Larger CNN Error: %.2f%%\" % (100-scores2[1]*100))"
   ]
  },
  {
   "cell_type": "code",
   "execution_count": 8,
   "metadata": {},
   "outputs": [],
   "source": [
    "y_pred = model2.predict(testX)\r\n",
    "y_pred = np.argmax(np.round(y_pred),axis=1)"
   ]
  },
  {
   "cell_type": "code",
   "execution_count": 9,
   "metadata": {},
   "outputs": [
    {
     "data": {
      "text/plain": [
       "2"
      ]
     },
     "execution_count": 9,
     "metadata": {},
     "output_type": "execute_result"
    }
   ],
   "source": [
    "import numpy as np\r\n",
    "testY=np.argmax(testY, axis=1)\r\n",
    "testY[1]"
   ]
  },
  {
   "cell_type": "code",
   "execution_count": 10,
   "metadata": {},
   "outputs": [
    {
     "name": "stdout",
     "output_type": "stream",
     "text": [
      "Mean absolute error: 0.06\n",
      "Mean sum of squares (MSE): 0.31\n",
      "RMSE: 0.56%\n",
      "R2-score: 0.96\n",
      "Larger CNN Error: 1.26%\n"
     ]
    }
   ],
   "source": [
    "from sklearn.metrics import mean_squared_error\r\n",
    "from sklearn.metrics import r2_score \r\n",
    "print(\"Mean absolute error: %.2f\" % np.mean(np.absolute(y_pred - testY)))\r\n",
    "print(\"Mean sum of squares (MSE): %.2f\" % np.mean((y_pred - testY)** 2))\r\n",
    "rmse = np.sqrt(np.mean((y_pred - testY)** 2))\r\n",
    "print(\"RMSE: %.2f%%\" % rmse)\r\n",
    "print(\"R2-score: %.2f\" % r2_score(y_pred, testY))\r\n",
    "print(\"Larger CNN Error: %.2f%%\" % (100-scores2[1]*100))"
   ]
  },
  {
   "cell_type": "code",
   "execution_count": 11,
   "metadata": {},
   "outputs": [
    {
     "data": {
      "image/png": "[encoded data removed]",
      "text/plain": [
       "<Figure size 432x288 with 1 Axes>"
      ]
     },
     "metadata": {
      "needs_background": "light"
     },
     "output_type": "display_data"
    },
    {
     "data": {
      "image/png": "[encoded data removed]",
      "text/plain": [
       "<Figure size 432x288 with 1 Axes>"
      ]
     },
     "metadata": {
      "needs_background": "light"
     },
     "output_type": "display_data"
    }
   ],
   "source": [
    "# plot the loss and accuracy\n",
    "\n",
    "acc = history.history['accuracy']\n",
    "val_acc = history.history['val_accuracy']\n",
    "loss = history.history['loss']\n",
    "val_loss = history.history['val_loss']\n",
    "epochs = range(1, len(acc) + 1)\n",
    "\n",
    "pyplot.title('Training and validation accuracy')\n",
    "pyplot.plot(epochs, acc, 'red', label='Training acc')\n",
    "pyplot.plot(epochs, val_acc, 'blue', label='Validation acc')\n",
    "pyplot.legend()\n",
    "\n",
    "pyplot.figure()\n",
    "pyplot.title('Training and validation loss')\n",
    "pyplot.plot(epochs, loss, 'red', label='Training loss')\n",
    "pyplot.plot(epochs, val_loss, 'blue', label='Validation loss')\n",
    "\n",
    "pyplot.legend()\n",
    "\n",
    "pyplot.show()"
   ]
  }
 ],
 "metadata": {
  "interpreter": {
   "hash": "31f2aee4e71d21fbe5cf8b01ff0e069b9275f58929596ceb00d14d90e3e16cd6"
  },
  "kernelspec": {
   "display_name": "Python 3.6.9 64-bit",
   "name": "python3"
  },
  "language_info": {
   "codemirror_mode": {
    "name": "ipython",
    "version": 3
   },
   "file_extension": ".py",
   "mimetype": "text/x-python",
   "name": "python",
   "nbconvert_exporter": "python",
   "pygments_lexer": "ipython3",
   "version": "3.6.9"
  },
  "orig_nbformat": 4
 },
 "nbformat": 4,
 "nbformat_minor": 2
}