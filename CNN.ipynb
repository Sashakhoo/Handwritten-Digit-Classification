{
 "cells": [
  {
   "cell_type": "code",
   "execution_count": 3,
   "metadata": {},
   "outputs": [],
   "source": [
    "from numpy import mean\r\n",
    "from numpy import std\r\n",
    "from matplotlib import pyplot\r\n",
    "import numpy as np\r\n",
    "import tensorflow as tf\r\n",
    "import datetime\r\n",
    "import itertools\r\n",
    "from sklearn.metrics import confusion_matrix\r\n",
    "from sklearn.model_selection import KFold\r\n",
    "from tensorflow.keras.preprocessing.image import ImageDataGenerator\r\n",
    "from keras.callbacks import TensorBoard\r\n",
    "from keras.datasets import mnist\r\n",
    "from keras.utils import to_categorical\r\n",
    "from keras.models import Sequential\r\n",
    "from keras.layers import Conv2D, MaxPooling2D, Flatten, Dense, InputLayer, BatchNormalization, Dropout\r\n",
    "from keras.optimizers import SGD\r\n",
    "# fix dimension ordering issue\r\n",
    "from keras import backend as K\r\n",
    "K.set_image_data_format('channels_last')"
   ]
  },
  {
   "cell_type": "code",
   "execution_count": 4,
   "metadata": {},
   "outputs": [],
   "source": [
    "# load dataset\r\n",
    "(trainX, trainY), (testX, testY) = mnist.load_data()\r\n",
    "# reshape dataset to have a single channel\r\n",
    "trainX = trainX.reshape((trainX.shape[0],28,28,1))\r\n",
    "testX = testX.reshape((testX.shape[0],28,28,1))\r\n",
    "# one hot encode target values\r\n",
    "trainY = to_categorical(trainY)\r\n",
    "testY = to_categorical(testY)"
   ]
  },
  {
   "cell_type": "code",
   "execution_count": 5,
   "metadata": {},
   "outputs": [],
   "source": [
    "# convert from integers to floats\n",
    "train_norm = trainX.astype('float32')\n",
    "test_norm = testX.astype('float32')\n",
    "# normalize to range 0-1\n",
    "train_norm = train_norm / 255.0\n",
    "test_norm = test_norm / 255.0\n",
    "num_classes = testY.shape[1]"
   ]
  },
  {
   "cell_type": "code",
   "execution_count": 6,
   "metadata": {},
   "outputs": [],
   "source": [
    "def simple_CNN():\r\n",
    "\t# create model\r\n",
    "\tmodel = Sequential()\r\n",
    "\tmodel.add(Conv2D(32, (5, 5), input_shape=(28,28,1), activation='relu'))\r\n",
    "\tmodel.add(MaxPooling2D(pool_size=(2, 2)))\r\n",
    "\tmodel.add(Dropout(0.2))\r\n",
    "\tmodel.add(Flatten())\r\n",
    "\tmodel.add(Dense(128, activation='relu'))\r\n",
    "\tmodel.add(Dense(num_classes, activation='softmax'))\r\n",
    "\t# Compile model\r\n",
    "\tmodel.compile(loss='categorical_crossentropy', optimizer='adam', metrics=['accuracy'])\r\n",
    "\treturn model"
   ]
  },
  {
   "cell_type": "code",
   "execution_count": 7,
   "metadata": {},
   "outputs": [
    {
     "name": "stdout",
     "output_type": "stream",
     "text": [
      "Epoch 1/10\n",
      "300/300 - 18s - loss: 1.8625 - accuracy: 0.8568 - val_loss: 0.1351 - val_accuracy: 0.9618\n",
      "Epoch 2/10\n",
      "300/300 - 16s - loss: 0.1282 - accuracy: 0.9641 - val_loss: 0.0820 - val_accuracy: 0.9764\n",
      "Epoch 3/10\n",
      "300/300 - 16s - loss: 0.0789 - accuracy: 0.9770 - val_loss: 0.0752 - val_accuracy: 0.9786\n",
      "Epoch 4/10\n",
      "300/300 - 16s - loss: 0.0548 - accuracy: 0.9836 - val_loss: 0.0623 - val_accuracy: 0.9811\n",
      "Epoch 5/10\n",
      "300/300 - 16s - loss: 0.0440 - accuracy: 0.9861 - val_loss: 0.0594 - val_accuracy: 0.9830\n",
      "Epoch 6/10\n",
      "300/300 - 16s - loss: 0.0381 - accuracy: 0.9879 - val_loss: 0.0557 - val_accuracy: 0.9837\n",
      "Epoch 7/10\n",
      "300/300 - 16s - loss: 0.0308 - accuracy: 0.9898 - val_loss: 0.0596 - val_accuracy: 0.9839\n",
      "Epoch 8/10\n",
      "300/300 - 16s - loss: 0.0280 - accuracy: 0.9911 - val_loss: 0.0556 - val_accuracy: 0.9841\n",
      "Epoch 9/10\n",
      "300/300 - 16s - loss: 0.0229 - accuracy: 0.9926 - val_loss: 0.0619 - val_accuracy: 0.9846\n",
      "Epoch 10/10\n",
      "300/300 - 16s - loss: 0.0218 - accuracy: 0.9928 - val_loss: 0.0656 - val_accuracy: 0.9847\n"
     ]
    }
   ],
   "source": [
    "## build the model\n",
    "model = simple_CNN()\n",
    "# Fit the model\n",
    "history = model.fit(trainX, trainY, validation_data=(testX, testY), epochs=10, batch_size=200, verbose=2)\n",
    "# Final evaluation of the model\n",
    "scores = model.evaluate(testX, testY, verbose=0)"
   ]
  },
  {
   "cell_type": "code",
   "execution_count": 8,
   "metadata": {},
   "outputs": [
    {
     "name": "stdout",
     "output_type": "stream",
     "text": [
      "Model: \"sequential\"\n",
      "_________________________________________________________________\n",
      "Layer (type)                 Output Shape              Param #   \n",
      "=================================================================\n",
      "conv2d (Conv2D)              (None, 24, 24, 32)        832       \n",
      "_________________________________________________________________\n",
      "max_pooling2d (MaxPooling2D) (None, 12, 12, 32)        0         \n",
      "_________________________________________________________________\n",
      "dropout (Dropout)            (None, 12, 12, 32)        0         \n",
      "_________________________________________________________________\n",
      "flatten (Flatten)            (None, 4608)              0         \n",
      "_________________________________________________________________\n",
      "dense (Dense)                (None, 128)               589952    \n",
      "_________________________________________________________________\n",
      "dense_1 (Dense)              (None, 10)                1290      \n",
      "=================================================================\n",
      "Total params: 592,074\n",
      "Trainable params: 592,074\n",
      "Non-trainable params: 0\n",
      "_________________________________________________________________\n",
      "CNN Error: 1.53%\n"
     ]
    }
   ],
   "source": [
    "model.summary()\n",
    "print(\"CNN Error: %.2f%%\" % (100-scores[1]*100))"
   ]
  },
  {
   "cell_type": "markdown",
   "metadata": {},
   "source": [
    "### Evaluation of model"
   ]
  },
  {
   "cell_type": "code",
   "execution_count": 9,
   "metadata": {},
   "outputs": [],
   "source": [
    "y_pred = model.predict(testX)\r\n",
    "y_pred = np.argmax(np.round(y_pred),axis=1)"
   ]
  },
  {
   "cell_type": "code",
   "execution_count": 10,
   "metadata": {},
   "outputs": [
    {
     "data": {
      "text/plain": [
       "2"
      ]
     },
     "execution_count": 10,
     "metadata": {},
     "output_type": "execute_result"
    }
   ],
   "source": [
    "import numpy as np\r\n",
    "testY=np.argmax(testY, axis=1)\r\n",
    "testY[1]"
   ]
  },
  {
   "cell_type": "code",
   "execution_count": 11,
   "metadata": {},
   "outputs": [
    {
     "name": "stdout",
     "output_type": "stream",
     "text": [
      "Mean absolute error: 0.07\n",
      "Mean sum of squares (MSE): 0.38\n",
      "RMSE: 0.62%\n",
      "R2-score: 0.95\n",
      "Larger CNN Error: 1.53%\n"
     ]
    }
   ],
   "source": [
    "from sklearn.metrics import mean_squared_error\r\n",
    "from sklearn.metrics import r2_score \r\n",
    "print(\"Mean absolute error: %.2f\" % np.mean(np.absolute(y_pred - testY)))\r\n",
    "print(\"Mean sum of squares (MSE): %.2f\" % np.mean((y_pred - testY)** 2))\r\n",
    "rmse = np.sqrt(np.mean((y_pred - testY)** 2))\r\n",
    "print(\"RMSE: %.2f%%\" % rmse)\r\n",
    "print(\"R2-score: %.2f\" % r2_score(y_pred, testY))\r\n",
    "print(\"Larger CNN Error: %.2f%%\" % (100-scores[1]*100))"
   ]
  },
  {
   "cell_type": "code",
   "execution_count": 12,
   "metadata": {},
   "outputs": [
    {
     "data": {
      "image/png": "[encoded data removed]",
      "text/plain": [
       "<Figure size 432x288 with 1 Axes>"
      ]
     },
     "metadata": {
      "needs_background": "light"
     },
     "output_type": "display_data"
    },
    {
     "data": {
      "image/png": "[encoded data removed]",
      "text/plain": [
       "<Figure size 432x288 with 1 Axes>"
      ]
     },
     "metadata": {
      "needs_background": "light"
     },
     "output_type": "display_data"
    }
   ],
   "source": [
    "# plot the loss and accuracy\n",
    "\n",
    "acc = history.history['accuracy']\n",
    "val_acc = history.history['val_accuracy']\n",
    "loss = history.history['loss']\n",
    "val_loss = history.history['val_loss']\n",
    "epochs = range(1, len(acc) + 1)\n",
    "\n",
    "pyplot.title('Training and validation accuracy')\n",
    "pyplot.plot(epochs, acc, 'red', label='Training acc')\n",
    "pyplot.plot(epochs, val_acc, 'blue', label='Validation acc')\n",
    "pyplot.legend()\n",
    "\n",
    "pyplot.figure()\n",
    "pyplot.title('Training and validation loss')\n",
    "pyplot.plot(epochs, loss, 'red', label='Training loss')\n",
    "pyplot.plot(epochs, val_loss, 'blue', label='Validation loss')\n",
    "\n",
    "pyplot.legend()\n",
    "\n",
    "pyplot.show()"
   ]
  }
 ],
 "metadata": {
  "interpreter": {
   "hash": "06b4f7c561f76ad499c5882876df75324df0d287869e55b80005d36e4919f42b"
  },
  "kernelspec": {
   "display_name": "Python 3.8.8 64-bit ('tf': conda)",
   "name": "python3"
  },
  "language_info": {
   "codemirror_mode": {
    "name": "ipython",
    "version": 3
   },
   "file_extension": ".py",
   "mimetype": "text/x-python",
   "name": "python",
   "nbconvert_exporter": "python",
   "pygments_lexer": "ipython3",
   "version": "3.8.8"
  },
  "orig_nbformat": 4
 },
 "nbformat": 4,
 "nbformat_minor": 2
}